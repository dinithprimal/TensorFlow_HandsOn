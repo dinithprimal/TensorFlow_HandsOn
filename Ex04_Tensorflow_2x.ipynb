{
  "nbformat": 4,
  "nbformat_minor": 0,
  "metadata": {
    "colab": {
      "provenance": [],
      "authorship_tag": "ABX9TyOxuLfdyW95vcMxTd+TlivU",
      "include_colab_link": true
    },
    "kernelspec": {
      "name": "python3",
      "display_name": "Python 3"
    },
    "language_info": {
      "name": "python"
    }
  },
  "cells": [
    {
      "cell_type": "markdown",
      "metadata": {
        "id": "view-in-github",
        "colab_type": "text"
      },
      "source": [
        "<a href=\"https://colab.research.google.com/github/dinithprimal/TensorFlow_HandsOn/blob/main/Ex04_Tensorflow_2x.ipynb\" target=\"_parent\"><img src=\"https://colab.research.google.com/assets/colab-badge.svg\" alt=\"Open In Colab\"/></a>"
      ]
    },
    {
      "cell_type": "markdown",
      "source": [
        "# **Clustering**"
      ],
      "metadata": {
        "id": "7NvP4IRy6JZJ"
      }
    },
    {
      "cell_type": "code",
      "source": [
        "%tensorflow_version 2.x"
      ],
      "metadata": {
        "colab": {
          "base_uri": "https://localhost:8080/"
        },
        "id": "kJPBX3sf6QDj",
        "outputId": "d4eee3a6-cb7e-457a-8d58-1835d5205fa8"
      },
      "execution_count": 1,
      "outputs": [
        {
          "output_type": "stream",
          "name": "stdout",
          "text": [
            "Colab only includes TensorFlow 2.x; %tensorflow_version has no effect.\n"
          ]
        }
      ]
    },
    {
      "cell_type": "code",
      "source": [
        "import tensorflow_probability as tfp\n",
        "import tensorflow as tf"
      ],
      "metadata": {
        "id": "6ugKqy1aKdKj"
      },
      "execution_count": 2,
      "outputs": []
    },
    {
      "cell_type": "markdown",
      "source": [
        "Model a simple weather system and try to predict the temperature on each day given the following information\n",
        "\n",
        "\n",
        "\n",
        "1.   Cold days are encoded bu a 0 and hot days are encoded by a 1\n",
        "2.   The first day in sequence has an 80% chance of being cold\n",
        "3.   A cold day has a 30% chance of being followwd by a hot day\n",
        "4.   A hot day has a 20% chance of being followed by a cold day\n",
        "5.   On each day the temperature is normally distributed with mean and standard deviation 0 and 5 on a cold day and mean and standard deviation 15 and 10\n",
        "\n"
      ],
      "metadata": {
        "id": "nL-VZ3QHMKcZ"
      }
    },
    {
      "cell_type": "code",
      "source": [
        "tfd = tfp.distributions  # making a shortcut for later on\n",
        "initial_distribution = tfd.Categorical(probs=[0.8, 0.2])  # Reer to points 2 above\n",
        "transition_distribution = tfd.Categorical(probs=[[0.7, 0.3], [0.2, 0.8]]) # Refer to points 3 and 4 above\n",
        "observation_distribution = tfd.Normal(loc=[0., 15.], scale=[5., 10.]) # Refer to point 5 above\n",
        "\n",
        "# The loc argument represents the mean and the scale is the standard deviation"
      ],
      "metadata": {
        "id": "UiepFjWnKjJf"
      },
      "execution_count": 3,
      "outputs": []
    },
    {
      "cell_type": "markdown",
      "source": [
        "Creating distribution variables to model this system and it's time to create the hidden markov model"
      ],
      "metadata": {
        "id": "ZE8KOkG9MD2D"
      }
    },
    {
      "cell_type": "code",
      "source": [
        "model = tfd.HiddenMarkovModel(\n",
        "    initial_distribution = initial_distribution,\n",
        "    transition_distribution = transition_distribution,\n",
        "    observation_distribution = observation_distribution,\n",
        "    num_steps = 7\n",
        ")"
      ],
      "metadata": {
        "id": "abGOoB7MNPwt"
      },
      "execution_count": 4,
      "outputs": []
    },
    {
      "cell_type": "markdown",
      "source": [
        "The number of steps represents the number of days that we would like to predict information for. In this case, chosen 7, an entire week.\n",
        "\n",
        "To get the **expected temperature** on each day we can the following"
      ],
      "metadata": {
        "id": "FhmhHFbdNnYV"
      }
    },
    {
      "cell_type": "code",
      "source": [
        "mean = model.mean()\n",
        "\n",
        "# Due to the way TensorFlow works on a lower level, need to evaluate part of the graph\n",
        "# from within a session to see the value of this tensor\n",
        "\n",
        "# In the new version of tensorflow, need to use tf.cmpat.v1.Session() rather than just tf.Session()\n",
        "with tf.compat.v1.Session() as sess:\n",
        "  print(mean.numpy())"
      ],
      "metadata": {
        "colab": {
          "base_uri": "https://localhost:8080/"
        },
        "id": "c1VzFYCzOVYM",
        "outputId": "d5655cf9-015f-4a82-8af5-fe4d8be3d3d9"
      },
      "execution_count": 6,
      "outputs": [
        {
          "output_type": "stream",
          "name": "stdout",
          "text": [
            "[3.        5.9999995 7.4999995 8.25      8.625001  8.812501  8.90625  ]\n"
          ]
        }
      ]
    },
    {
      "cell_type": "markdown",
      "source": [
        "# Conclusion\n",
        "\n",
        "So that it for the core laerning algorithms in TensorFlow. Hopefully you've learned about a few interesting tools that are pretty easy to use!"
      ],
      "metadata": {
        "id": "ewUygWwXOj28"
      }
    },
    {
      "cell_type": "code",
      "source": [],
      "metadata": {
        "id": "6OX01Wl5QRNs"
      },
      "execution_count": null,
      "outputs": []
    }
  ]
}