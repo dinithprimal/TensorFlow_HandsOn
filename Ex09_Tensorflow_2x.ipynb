{
  "nbformat": 4,
  "nbformat_minor": 0,
  "metadata": {
    "colab": {
      "provenance": [],
      "gpuType": "T4",
      "authorship_tag": "ABX9TyPhLBffxlmPU+LobFbu4mdc",
      "include_colab_link": true
    },
    "kernelspec": {
      "name": "python3",
      "display_name": "Python 3"
    },
    "language_info": {
      "name": "python"
    },
    "accelerator": "GPU"
  },
  "cells": [
    {
      "cell_type": "markdown",
      "metadata": {
        "id": "view-in-github",
        "colab_type": "text"
      },
      "source": [
        "<a href=\"https://colab.research.google.com/github/dinithprimal/TensorFlow_HandsOn/blob/main/Ex09_Tensorflow_2x.ipynb\" target=\"_parent\"><img src=\"https://colab.research.google.com/assets/colab-badge.svg\" alt=\"Open In Colab\"/></a>"
      ]
    },
    {
      "cell_type": "markdown",
      "source": [
        "# Reinforcement Learning"
      ],
      "metadata": {
        "id": "G1dfrX3LbsNt"
      }
    },
    {
      "cell_type": "markdown",
      "source": [
        "## Q-Learning Example"
      ],
      "metadata": {
        "id": "PLDFL56vl9Go"
      }
    },
    {
      "cell_type": "code",
      "source": [
        "import gym  # all you have to do to import and use open ai gym!"
      ],
      "metadata": {
        "colab": {
          "base_uri": "https://localhost:8080/"
        },
        "id": "F1RGUIo2qODg",
        "outputId": "d9286589-aad3-4c66-db6a-7e2ab557ddd7"
      },
      "execution_count": 2,
      "outputs": [
        {
          "output_type": "stream",
          "name": "stderr",
          "text": [
            "/usr/local/lib/python3.10/dist-packages/ipykernel/ipkernel.py:283: DeprecationWarning: `should_run_async` will not call `transform_cell` automatically in the future. Please pass the result to `transformed_cell` argument and any exception that happen during thetransform in `preprocessing_exc_tuple` in IPython 7.17 and above.\n",
            "  and should_run_async(code)\n"
          ]
        }
      ]
    },
    {
      "cell_type": "code",
      "source": [
        "env = gym.make('FrozenLake-v1')  # we are going to use the FrozenLake environment"
      ],
      "metadata": {
        "id": "5paDV1bIqXjS"
      },
      "execution_count": 3,
      "outputs": []
    },
    {
      "cell_type": "code",
      "source": [
        "print(env.observation_space.n)  # get number of states\n",
        "print(env.action_space.n)  # get number of actions"
      ],
      "metadata": {
        "colab": {
          "base_uri": "https://localhost:8080/"
        },
        "id": "Ebo1JoZHqjsG",
        "outputId": "f7fbc8db-e4c5-494c-b50e-16f7184e68a9"
      },
      "execution_count": 4,
      "outputs": [
        {
          "output_type": "stream",
          "name": "stdout",
          "text": [
            "16\n",
            "4\n"
          ]
        }
      ]
    },
    {
      "cell_type": "code",
      "source": [
        "env.reset()  # reset environment to default state"
      ],
      "metadata": {
        "colab": {
          "base_uri": "https://localhost:8080/"
        },
        "id": "nhWc-DCqq7Bl",
        "outputId": "950d0dc7-953b-4e93-d218-3f13fc9e5417"
      },
      "execution_count": 5,
      "outputs": [
        {
          "output_type": "execute_result",
          "data": {
            "text/plain": [
              "0"
            ]
          },
          "metadata": {},
          "execution_count": 5
        }
      ]
    },
    {
      "cell_type": "code",
      "source": [
        "action = env.action_space.sample()  # get a random action"
      ],
      "metadata": {
        "id": "JjC2GyQYrPc5"
      },
      "execution_count": 6,
      "outputs": []
    },
    {
      "cell_type": "code",
      "source": [
        "observation, reward, done, info = env.step(action)  # take action, notice it returns"
      ],
      "metadata": {
        "id": "g6Fqxju-rXYG"
      },
      "execution_count": 7,
      "outputs": []
    },
    {
      "cell_type": "code",
      "source": [
        "env.render()  # render the GUI for the environment"
      ],
      "metadata": {
        "colab": {
          "base_uri": "https://localhost:8080/"
        },
        "id": "9rCB2UaqsCJB",
        "outputId": "4c4494eb-2c4c-4775-92ea-9226cabfef65"
      },
      "execution_count": 8,
      "outputs": [
        {
          "output_type": "stream",
          "name": "stderr",
          "text": [
            "/usr/local/lib/python3.10/dist-packages/gym/core.py:49: DeprecationWarning: \u001b[33mWARN: You are calling render method, but you didn't specified the argument render_mode at environment initialization. To maintain backward compatibility, the environment will render in human mode.\n",
            "If you want to render in human mode, initialize the environment in this way: gym.make('EnvName', render_mode='human') and don't call the render method.\n",
            "See here for more information: https://www.gymlibrary.ml/content/api/\u001b[0m\n",
            "  deprecation(\n"
          ]
        }
      ]
    },
    {
      "cell_type": "markdown",
      "source": [
        "## Frozen Lake Environment"
      ],
      "metadata": {
        "id": "e0u3PewGsHsT"
      }
    },
    {
      "cell_type": "markdown",
      "source": [
        "### Building the Q Table"
      ],
      "metadata": {
        "id": "r7XKgOIMsfz3"
      }
    },
    {
      "cell_type": "code",
      "source": [
        "\"\"\"\n",
        "import numpy as np\n",
        "import time\n",
        "\n",
        "STATES = env.observation_space.n\n",
        "ACTIONS = env.action_space.n\n",
        "\"\"\""
      ],
      "metadata": {
        "colab": {
          "base_uri": "https://localhost:8080/",
          "height": 53
        },
        "id": "tbHDeFehslWL",
        "outputId": "94e49370-b07e-4e7c-d562-2d884c0e5543"
      },
      "execution_count": 9,
      "outputs": [
        {
          "output_type": "execute_result",
          "data": {
            "text/plain": [
              "'\\nimport numpy as np\\nimport time\\n\\nSTATES = env.observation_space.n\\nACTIONS = env.action_space.n\\n'"
            ],
            "application/vnd.google.colaboratory.intrinsic+json": {
              "type": "string"
            }
          },
          "metadata": {},
          "execution_count": 9
        }
      ]
    },
    {
      "cell_type": "code",
      "source": [
        "\"\"\"\n",
        "Q = np.zeros((STATES, ACTIONS)) # Create a matrix with all 0 values\n",
        "Q\n",
        "\"\"\""
      ],
      "metadata": {
        "colab": {
          "base_uri": "https://localhost:8080/",
          "height": 36
        },
        "id": "vmBbCw8Ds0fW",
        "outputId": "72b82ffd-f2fb-4f6a-805c-4558c11b664c"
      },
      "execution_count": 10,
      "outputs": [
        {
          "output_type": "execute_result",
          "data": {
            "text/plain": [
              "'\\nQ = np.zeros((STATES, ACTIONS)) # Create a matrix with all 0 values\\nQ\\n'"
            ],
            "application/vnd.google.colaboratory.intrinsic+json": {
              "type": "string"
            }
          },
          "metadata": {},
          "execution_count": 10
        }
      ]
    },
    {
      "cell_type": "markdown",
      "source": [
        "### Constants"
      ],
      "metadata": {
        "id": "CbhCe4RatFbO"
      }
    },
    {
      "cell_type": "code",
      "source": [
        "\"\"\"\n",
        "EPISODES = 10000  # How many times to run the environment from the begining\n",
        "MAX_STEPS = 100  # Max number of steps allowed for each run of environment\n",
        "\n",
        "LEARNING_RATE = 0.81  # learning rate\n",
        "GAMMA = 0.96\n",
        "\"\"\""
      ],
      "metadata": {
        "colab": {
          "base_uri": "https://localhost:8080/",
          "height": 70
        },
        "id": "m5EBrI-otXic",
        "outputId": "a46a3e73-327d-4a2b-c2e7-2306ca634ccc"
      },
      "execution_count": 11,
      "outputs": [
        {
          "output_type": "execute_result",
          "data": {
            "text/plain": [
              "'\\nEPISODES = 10000  # How many times to run the environment from the begining\\nMAX_STEPS = 100  # Max number of steps allowed for each run of environment\\n\\nLEARNING_RATE = 0.81  # learning rate\\nGAMMA = 0.96\\n'"
            ],
            "application/vnd.google.colaboratory.intrinsic+json": {
              "type": "string"
            }
          },
          "metadata": {},
          "execution_count": 11
        }
      ]
    },
    {
      "cell_type": "markdown",
      "source": [
        "### Picking an Action"
      ],
      "metadata": {
        "id": "VYlXLeKDtreB"
      }
    },
    {
      "cell_type": "code",
      "source": [
        "\"\"\"\n",
        "epsilon = 0.9  # Start with a 90% chance of picking a rendom action\n",
        "\n",
        "# code to pick action\n",
        "if np.random.uniform(0, 1) < epsilon:  # we will check if a rendomly selected value is less than epsilon\n",
        "  action = env.action_space.sample()  # take random action\n",
        "else:\n",
        "  action = np.argmax(Q[state, :])  # use Q table to pick best action based on current values\n",
        "\n",
        "\"\"\""
      ],
      "metadata": {
        "colab": {
          "base_uri": "https://localhost:8080/",
          "height": 105
        },
        "id": "wo-3QNHqt93A",
        "outputId": "f362fb2b-64bf-4706-9002-1d7d964b9dbf"
      },
      "execution_count": 12,
      "outputs": [
        {
          "output_type": "execute_result",
          "data": {
            "text/plain": [
              "'\\nepsilon = 0.9  # Start with a 90% chance of picking a rendom action\\n\\n# code to pick action\\nif np.random.uniform(0, 1) < epsilon:  # we will check if a rendomly selected value is less than epsilon\\n  action = env.action_space.sample()  # take random action\\nelse:\\n  action = np.argmax(Q[state, :])  # use Q table to pick best action based on current values\\n\\n'"
            ],
            "application/vnd.google.colaboratory.intrinsic+json": {
              "type": "string"
            }
          },
          "metadata": {},
          "execution_count": 12
        }
      ]
    },
    {
      "cell_type": "code",
      "source": [
        "import gym\n",
        "import numpy as np\n",
        "import time\n",
        "\n",
        "env = gym.make('FrozenLake-v1')\n",
        "STATES = env.observation_space.n\n",
        "ACTIONS = env.action_space.n\n",
        "\n",
        "Q = np.zeros((STATES, ACTIONS))\n",
        "\n",
        "EPISODES = 1500  # how many times to run the environmetn from the begining\n",
        "MAX_STEPS = 100  # Max number of steps allowed for each run of environment\n",
        "\n",
        "LEARNING_RATE = 0.81  # learning rate\n",
        "GAMMA = 0.96\n",
        "\n",
        "RENDER = False  # If you want to see tarining set to True\n",
        "\n",
        "epsilon = 0.9"
      ],
      "metadata": {
        "colab": {
          "base_uri": "https://localhost:8080/"
        },
        "id": "xe9kSqvzwT-k",
        "outputId": "b9065bf4-e5b1-4ff7-d277-2cd7773b754b"
      },
      "execution_count": 13,
      "outputs": [
        {
          "output_type": "stream",
          "name": "stderr",
          "text": [
            "/usr/local/lib/python3.10/dist-packages/gym/core.py:317: DeprecationWarning: \u001b[33mWARN: Initializing wrapper in old step API which returns one bool instead of two. It is recommended to set `new_step_api=True` to use new step API. This will be the default behaviour in future.\u001b[0m\n",
            "  deprecation(\n",
            "/usr/local/lib/python3.10/dist-packages/gym/wrappers/step_api_compatibility.py:39: DeprecationWarning: \u001b[33mWARN: Initializing environment in old step API which returns one bool instead of two. It is recommended to set `new_step_api=True` to use new step API. This will be the default behaviour in future.\u001b[0m\n",
            "  deprecation(\n"
          ]
        }
      ]
    },
    {
      "cell_type": "code",
      "source": [
        "rewards = []\n",
        "\n",
        "for episode in range(EPISODES):\n",
        "\n",
        "  state = env.reset()\n",
        "\n",
        "  for _ in range(MAX_STEPS):\n",
        "    if RENDER:\n",
        "      env.render()\n",
        "\n",
        "    if np.random.uniform(0, 1) < epsilon:\n",
        "      action = env.action_space.sample()\n",
        "\n",
        "    else:\n",
        "      action = np.argmax(Q[state, :])\n",
        "\n",
        "    next_state, reward, done, _ = env.step(action)\n",
        "\n",
        "    Q[state, action] = Q[state, action] + LEARNING_RATE * (reward + GAMMA * np.max(Q[next_state, :]) - Q[state, action])\n",
        "\n",
        "    state = next_state\n",
        "\n",
        "    if done:\n",
        "      rewards.append(reward)\n",
        "      epsilon -= 0.001\n",
        "      break  # reached goal\n",
        "\n",
        "print(Q)\n",
        "print(f\"Average reward: {sum(rewards)/len(rewards)}:\")\n",
        "# and now we can see our Q values!"
      ],
      "metadata": {
        "colab": {
          "base_uri": "https://localhost:8080/"
        },
        "id": "noMrtsa-xDMp",
        "outputId": "c653f700-8438-42e0-9194-340e084d33fc"
      },
      "execution_count": 14,
      "outputs": [
        {
          "output_type": "stream",
          "name": "stderr",
          "text": [
            "/usr/local/lib/python3.10/dist-packages/ipykernel/ipkernel.py:283: DeprecationWarning: `should_run_async` will not call `transform_cell` automatically in the future. Please pass the result to `transformed_cell` argument and any exception that happen during thetransform in `preprocessing_exc_tuple` in IPython 7.17 and above.\n",
            "  and should_run_async(code)\n"
          ]
        },
        {
          "output_type": "stream",
          "name": "stdout",
          "text": [
            "[[1.69464595e-01 3.05866216e-02 3.30429908e-02 3.27646096e-02]\n",
            " [5.82447799e-03 3.85869639e-03 1.27643889e-02 2.56458984e-01]\n",
            " [7.66184596e-03 5.02579349e-03 5.50326797e-03 1.32266763e-01]\n",
            " [4.32320850e-03 4.42126428e-03 7.39424838e-04 8.07039872e-02]\n",
            " [2.37116646e-01 1.01570484e-02 2.17250424e-02 6.88101932e-03]\n",
            " [0.00000000e+00 0.00000000e+00 0.00000000e+00 0.00000000e+00]\n",
            " [1.41783588e-01 1.05409872e-04 4.47544337e-05 8.92809850e-05]\n",
            " [0.00000000e+00 0.00000000e+00 0.00000000e+00 0.00000000e+00]\n",
            " [3.05571628e-02 1.09074733e-02 7.53258463e-03 3.96663495e-01]\n",
            " [1.22121358e-02 4.00060468e-01 7.95523898e-03 9.69018051e-03]\n",
            " [2.52270904e-01 4.95897557e-03 5.41380172e-03 1.98772624e-03]\n",
            " [0.00000000e+00 0.00000000e+00 0.00000000e+00 0.00000000e+00]\n",
            " [0.00000000e+00 0.00000000e+00 0.00000000e+00 0.00000000e+00]\n",
            " [1.92847440e-02 5.23674697e-02 7.89198138e-01 4.42080747e-02]\n",
            " [2.08381860e-01 9.84079702e-01 1.33222750e-01 1.82090138e-01]\n",
            " [0.00000000e+00 0.00000000e+00 0.00000000e+00 0.00000000e+00]]\n",
            "Average reward: 0.328:\n"
          ]
        }
      ]
    },
    {
      "cell_type": "code",
      "source": [
        "# We can plot the training progress and see how the agent improved\n",
        "\n",
        "import matplotlib.pyplot as plt\n",
        "\n",
        "def get_average(values):\n",
        "  return sum(values)/len(values)\n",
        "\n",
        "avg_rewards = []\n",
        "\n",
        "for i in range(0, len(rewards), 100):\n",
        "  avg_rewards.append(get_average(rewards[i:i+100]))\n",
        "\n",
        "plt.plot(avg_rewards)\n",
        "plt.ylabel('average reward')\n",
        "plt.xlabel('episodes (100\\'s)')\n",
        "plt.show()"
      ],
      "metadata": {
        "colab": {
          "base_uri": "https://localhost:8080/",
          "height": 449
        },
        "id": "mpT8TaZszGZ7",
        "outputId": "bbd55de0-76b5-494c-dc3d-84fc1f22c871"
      },
      "execution_count": 16,
      "outputs": [
        {
          "output_type": "display_data",
          "data": {
            "text/plain": [
              "<Figure size 640x480 with 1 Axes>"
            ],
            "image/png": "[encoded data removed]"
          },
          "metadata": {}
        }
      ]
    },
    {
      "cell_type": "code",
      "source": [],
      "metadata": {
        "id": "YwjtLA5L0J1r"
      },
      "execution_count": null,
      "outputs": []
    }
  ]
}